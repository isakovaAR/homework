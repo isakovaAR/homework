{
 "cells": [
  {
   "cell_type": "markdown",
   "metadata": {},
   "source": [
    "# Ex 1"
   ]
  },
  {
   "cell_type": "code",
   "execution_count": 8,
   "metadata": {},
   "outputs": [
    {
     "name": "stdout",
     "output_type": "stream",
     "text": [
      "Please, write your name: albina\n",
      "Please, write your age: 19\n",
      "You will turn 100 years in 2100\n"
     ]
    }
   ],
   "source": [
    "name = input(\"Please, write your name: \")\n",
    "age = int(input(\"Please, write your age: \"))\n",
    "answer = str(2119 - age)\n",
    "print(\"You will turn 100 years in \"+answer)\n"
   ]
  },
  {
   "cell_type": "markdown",
   "metadata": {},
   "source": [
    "# Ex 2"
   ]
  },
  {
   "cell_type": "code",
   "execution_count": 18,
   "metadata": {},
   "outputs": [
    {
     "name": "stdout",
     "output_type": "stream",
     "text": [
      "Please, write a number: 0\n",
      "It's an even number\n"
     ]
    }
   ],
   "source": [
    "number = int(input(\"Please, write a number: \"))\n",
    "if number % 2 == 0:\n",
    "    print(\"It's an even number\")\n",
    "else:\n",
    "    print(\"It's an odd number\")\n"
   ]
  },
  {
   "cell_type": "markdown",
   "metadata": {},
   "source": [
    "# Ex 3"
   ]
  },
  {
   "cell_type": "code",
   "execution_count": 19,
   "metadata": {},
   "outputs": [
    {
     "name": "stdout",
     "output_type": "stream",
     "text": [
      "1\n",
      "1\n",
      "2\n",
      "3\n"
     ]
    }
   ],
   "source": [
    "a = [1, 1, 2, 3, 5, 8, 13, 21, 34, 55, 89]\n",
    "for x in a:\n",
    "    if x < 5:\n",
    "        print(x)\n",
    "    "
   ]
  },
  {
   "cell_type": "markdown",
   "metadata": {},
   "source": [
    "### Другой варриант"
   ]
  },
  {
   "cell_type": "code",
   "execution_count": 25,
   "metadata": {},
   "outputs": [
    {
     "name": "stdout",
     "output_type": "stream",
     "text": [
      "Введите несколько чисел, разделённых запятыми: 1,5,7,7\n",
      "1\n"
     ]
    }
   ],
   "source": [
    "s = input(\"Введите несколько чисел, разделённых запятыми: \")\n",
    "b = s.split(\",\")\n",
    "for x in b:\n",
    "    if int(x) < 5:\n",
    "        print(x)"
   ]
  },
  {
   "cell_type": "markdown",
   "metadata": {},
   "source": [
    "# Ex 4"
   ]
  },
  {
   "cell_type": "code",
   "execution_count": 30,
   "metadata": {},
   "outputs": [
    {
     "name": "stdout",
     "output_type": "stream",
     "text": [
      "Write a number: 16\n",
      "[1, 2, 4, 8, 16]\n"
     ]
    }
   ],
   "source": [
    "N = int(input(\"Write a number: \"))\n",
    "list = []\n",
    "x = range(1,N+1)\n",
    "for elem in x:\n",
    "    if N%elem == 0:\n",
    "        list.append(elem)\n",
    "print(list)"
   ]
  },
  {
   "cell_type": "markdown",
   "metadata": {},
   "source": [
    "# Ex 5"
   ]
  },
  {
   "cell_type": "code",
   "execution_count": 5,
   "metadata": {},
   "outputs": [
    {
     "name": "stdout",
     "output_type": "stream",
     "text": [
      "Укажите длину первого списка: 5\n",
      "Укажите длину второго списка: 3\n",
      "1\n",
      "3\n",
      "3\n",
      "5\n",
      "6\n",
      "1\n",
      "3\n",
      "3\n",
      "[1, 3]\n"
     ]
    }
   ],
   "source": [
    "N = int(input(\"Укажите длину первого списка: \"))\n",
    "M = int(input(\"Укажите длину второго списка: \"))\n",
    "a = []\n",
    "b = []\n",
    "c = []\n",
    "for i in range(N):\n",
    "    a.append(int(input()))\n",
    "for k in range(M):\n",
    "    b.append(int(input()))\n",
    "for x in a:\n",
    "    if x in b:\n",
    "        if x not in c:\n",
    "            c.append(x)\n",
    "print(c)"
   ]
  },
  {
   "cell_type": "markdown",
   "metadata": {},
   "source": [
    "# Ex 6"
   ]
  },
  {
   "cell_type": "code",
   "execution_count": 9,
   "metadata": {},
   "outputs": [
    {
     "name": "stdout",
     "output_type": "stream",
     "text": [
      "Write a string: paoap\n",
      "It's a palindrome\n"
     ]
    }
   ],
   "source": [
    "str = input(\"Write a string: \")\n",
    "k = 1;\n",
    "for i in range(len(str)//2):\n",
    "    if str[i] != str[len(str)-1-i]:\n",
    "        k = 0;\n",
    "if k == 0:\n",
    "    print(\"It isn't a palindrome\")\n",
    "else:\n",
    "    print(\"It's a palindrome\")"
   ]
  },
  {
   "cell_type": "markdown",
   "metadata": {},
   "source": [
    "# Ex 7"
   ]
  },
  {
   "cell_type": "code",
   "execution_count": 13,
   "metadata": {},
   "outputs": [
    {
     "name": "stdout",
     "output_type": "stream",
     "text": [
      "[4, 16, 36, 64, 100]\n"
     ]
    }
   ],
   "source": [
    "a = [1, 4, 9, 16, 25, 36, 49, 64, 81, 100]\n",
    "b = [x for x in a if x%2 == 0]\n",
    "print(b)"
   ]
  },
  {
   "cell_type": "markdown",
   "metadata": {},
   "source": [
    "# Ex 12"
   ]
  },
  {
   "cell_type": "code",
   "execution_count": 16,
   "metadata": {},
   "outputs": [
    {
     "name": "stdout",
     "output_type": "stream",
     "text": [
      "[5, 25]\n"
     ]
    }
   ],
   "source": [
    "def func(a):\n",
    "    c = []\n",
    "    c.append(a[0])\n",
    "    c.append(a[len(a)-1])\n",
    "    return c\n",
    "a = [5, 10, 15, 20, 25]\n",
    "print(func(a))"
   ]
  },
  {
   "cell_type": "code",
   "execution_count": null,
   "metadata": {},
   "outputs": [],
   "source": []
  }
 ],
 "metadata": {
  "kernelspec": {
   "display_name": "Python 3",
   "language": "python",
   "name": "python3"
  },
  "language_info": {
   "codemirror_mode": {
    "name": "ipython",
    "version": 3
   },
   "file_extension": ".py",
   "mimetype": "text/x-python",
   "name": "python",
   "nbconvert_exporter": "python",
   "pygments_lexer": "ipython3",
   "version": "3.7.3"
  }
 },
 "nbformat": 4,
 "nbformat_minor": 2
}
