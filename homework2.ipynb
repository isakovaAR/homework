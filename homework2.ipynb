{
 "cells": [
  {
   "cell_type": "markdown",
   "metadata": {},
   "source": [
    "# Ex 1"
   ]
  },
  {
   "cell_type": "code",
   "execution_count": 1,
   "metadata": {},
   "outputs": [
    {
     "name": "stdout",
     "output_type": "stream",
     "text": [
      "[[0.24105837 0.59685806 0.1236311 ]\n",
      " [0.16678753 0.70082022 0.82786122]\n",
      " [0.29347636 0.3377318  0.21725238]\n",
      " [0.84503182 0.47026851 0.67526363]\n",
      " [0.24903905 0.37727331 0.36414416]\n",
      " [0.87480042 0.09053828 0.8613555 ]\n",
      " [0.62390055 0.05180192 0.84873376]\n",
      " [0.22982917 0.47893075 0.5389072 ]\n",
      " [0.92787742 0.4842651  0.89200837]\n",
      " [0.97479615 0.21936471 0.84614336]]\n",
      "[0.5968580576641237, 0.7008202161699656, 0.3377317983721806, 0.4702685064943656, 0.3772733086747778, 0.8613554982864293, 0.623900545228626, 0.47893075164022403, 0.48426510321950156, 0.21936470568022515]\n"
     ]
    }
   ],
   "source": [
    "import numpy as np\n",
    "a = np.random.random((10, 3))\n",
    "print(a)\n",
    "print([b[np.abs(b-0.5).argmin()] for b in a])"
   ]
  },
  {
   "cell_type": "markdown",
   "metadata": {},
   "source": [
    "# Ex 2"
   ]
  },
  {
   "cell_type": "code",
   "execution_count": 48,
   "metadata": {},
   "outputs": [
    {
     "name": "stdout",
     "output_type": "stream",
     "text": [
      "[ 26.55579197   7.85517719  28.8849447   44.40127467 169.73994241\n",
      "  96.37977023]\n"
     ]
    }
   ],
   "source": [
    "a = np.random.random((6, 6))\n",
    "sums = np.sum(a, axis  = 1)\n",
    "mins = np.min(a, axis = 0)\n",
    "print(sums/mins)"
   ]
  },
  {
   "cell_type": "markdown",
   "metadata": {},
   "source": [
    "# Ex 3"
   ]
  },
  {
   "cell_type": "code",
   "execution_count": 2,
   "metadata": {},
   "outputs": [
    {
     "name": "stdout",
     "output_type": "stream",
     "text": [
      "5\n"
     ]
    }
   ],
   "source": [
    "x = np.array([6, 2, 0, 3, 0, 0, 5, 7, 0])\n",
    "k = max(np.array([x[i] for i in range(1,9) if x[i-1] == 0]))\n",
    "print(k)"
   ]
  },
  {
   "cell_type": "markdown",
   "metadata": {},
   "source": [
    "# Ex 4"
   ]
  },
  {
   "cell_type": "code",
   "execution_count": 61,
   "metadata": {},
   "outputs": [
    {
     "data": {
      "text/plain": [
       "array([2., 2., 2., 2., 1., 4., 1., 1., 2., 1.])"
      ]
     },
     "execution_count": 61,
     "metadata": {},
     "output_type": "execute_result"
    }
   ],
   "source": [
    "x = np.ones(10)\n",
    "i = np.array([0, 1, 2, 3, 5, 5, 5, 8])\n",
    "for j in i:\n",
    "    x[j]+=1\n",
    "x"
   ]
  },
  {
   "cell_type": "markdown",
   "metadata": {},
   "source": [
    "# Ex 5"
   ]
  },
  {
   "cell_type": "code",
   "execution_count": 76,
   "metadata": {},
   "outputs": [
    {
     "data": {
      "text/plain": [
       "{0: [0],\n",
       " 1: [1, 4],\n",
       " 2: [2, 5, 8],\n",
       " 3: [3, 6, 9, 12],\n",
       " 4: [7, 10, 13],\n",
       " 5: [11, 14],\n",
       " 6: [15]}"
      ]
     },
     "execution_count": 76,
     "metadata": {},
     "output_type": "execute_result"
    }
   ],
   "source": [
    "a = np.arange(16).reshape(4, 4)\n",
    "dic = {}\n",
    "size = len(a[0])\n",
    "for s in range(2*size-1):\n",
    "    diag = []\n",
    "    for i in range(np.max([0, s-size+1]), np.min([size-1, s])+1):\n",
    "        diag.append(a[i][s-i])\n",
    "    dic[s] = diag\n",
    "dic"
   ]
  },
  {
   "cell_type": "markdown",
   "metadata": {},
   "source": [
    "# Ex 6"
   ]
  },
  {
   "cell_type": "code",
   "execution_count": null,
   "metadata": {},
   "outputs": [],
   "source": [
    "data = np.genfromtxt('dataset-44970.csv',delimiter=',')\n",
    "import matplotlib.pyplot as plt\n",
    "\n",
    "plt.scatter(*data.T)\n",
    "plt.xlabel('Eruption time (min)')\n",
    "plt.ylabel('Waiting time ti next eruption (min)')\n",
    "plt.show()\n",
    "\n",
    "data = (data - np.mean(data))/np.std(data)\n",
    "\n",
    "plt.scatter(*data.T)\n",
    "plt.show()\n",
    "\n",
    "def get_labels(pts, centroids):\n",
    "   \n",
    "centroids = np.random.uniform(-2, 2, 4).reshape((2, 2))\n",
    "np.linalg.norm(data[0:]-centroids[0])\n",
    "labels = get_labels(data, centroids)\n",
    "plt.scatter(*data.T, c=np.where(labels, \"green\", \"red\"), s=20)\n",
    "plt.scatter(*centroids.T, c=[\"red\", \"green\"], s=95, marker='*')\n",
    "plt.title('Predicted Classes')\n",
    "plt.show()"
   ]
  },
  {
   "cell_type": "code",
   "execution_count": null,
   "metadata": {},
   "outputs": [],
   "source": []
  },
  {
   "cell_type": "code",
   "execution_count": null,
   "metadata": {},
   "outputs": [],
   "source": []
  },
  {
   "cell_type": "code",
   "execution_count": null,
   "metadata": {},
   "outputs": [],
   "source": []
  }
 ],
 "metadata": {
  "kernelspec": {
   "display_name": "Python 3",
   "language": "python",
   "name": "python3"
  },
  "language_info": {
   "codemirror_mode": {
    "name": "ipython",
    "version": 3
   },
   "file_extension": ".py",
   "mimetype": "text/x-python",
   "name": "python",
   "nbconvert_exporter": "python",
   "pygments_lexer": "ipython3",
   "version": "3.7.3"
  }
 },
 "nbformat": 4,
 "nbformat_minor": 2
}
